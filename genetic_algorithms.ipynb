{
 "cells": [
  {
   "cell_type": "markdown",
   "id": "903e3dfb",
   "metadata": {},
   "source": [
    "# Algoritmos genéticos para la optimización en ordenación de trenes"
   ]
  },
  {
   "cell_type": "markdown",
   "id": "5c03a167",
   "metadata": {},
   "source": [
    "Pongamos en práctica lo aprendido hasta ahora en lo relativo a **algoritmos genéticos**.\n",
    "\n",
    "La principal utilidad que esta herramienta nos proporciona es la **capacidad de optimizar el resultado a un proceso determinado en un tiempo ínfimo**.\n",
    "\n",
    "Sabiendo esto, podemos comenzar con el *problema que se nos plantea*.\n",
    "Existe un área ferroviaria que necesita *optimizar el tiempo de descarga que provocan los trenes entrantes a dicho lugar*. Las condiciones son las siguientes:\n",
    "1. Todos los trenes circulan por la misma vía, con lo cual si tienen uno delante tienen que esperar.\n",
    "2. Un tren sólo puede entrar a un muelle de carga que le corresponda, de su mismo tipo.\n",
    "3. El tiempo de descarga de un tren corresponde al nº de vagones que lleve.\n",
    "\n",
    "Con lo cual, nuestro cometido será construir un algoritmo genético que reordene los trenes, de forma que el tiempo que están los trenes haciendo cola sea mínimo."
   ]
  },
  {
   "cell_type": "markdown",
   "id": "f825a23b",
   "metadata": {},
   "source": [
    "## Funciones auxiliares"
   ]
  },
  {
   "cell_type": "markdown",
   "id": "d620d6dc",
   "metadata": {},
   "source": [
    "A continuación se muestran las funciones propias de los algoritmos genéticos (cruce, mutación, selección), la representación de las clases (trenes, individuos)."
   ]
  },
  {
   "cell_type": "code",
   "execution_count": 9,
   "id": "38231a50",
   "metadata": {
    "scrolled": false
   },
   "outputs": [],
   "source": [
    "import random\n",
    "from deap import base, creator, tools, algorithms\n",
    "import numpy as np\n",
    "import matplotlib.pyplot as plt\n",
    "\n",
    "\n",
    "# Tren dentro de un individuo\n",
    "class Train:\n",
    "    def __init__(self, wagons, op):\n",
    "        self.wagons = wagons\n",
    "        self.op = op\n",
    "\n",
    "    def __str__(self):\n",
    "        return \"Número de vagones:\" + str(self.wagons) + \"\\n\" + \"Muelle de operaciones:\" + str(self.op)\n",
    "\n",
    "# Función para la generación de trenes con nº aleatorio de trenes y muelle de carga\n",
    "def random_trains_generation(n):\n",
    "    train_list = []\n",
    "    for _ in range(n):\n",
    "        wagons = random.randint(10, 30)  # Cada tren puede arrastrar entre 10 y 30 vagones\n",
    "        op = random.choice([\"op1\", \"op2\", \"op3\"])  # A cada tren se le asigna un tipo de carga\n",
    "        train_list.append(Train(wagons, op))\n",
    "    return train_list\n",
    "\n",
    "\n",
    "incoming_trains = random_trains_generation(10)  # supongamos que entran 7 trenes\n",
    "\n",
    "\n",
    "# Función para la creación de una nueva reordenación de los trenes entrantes, para población incial\n",
    "def create_queue():\n",
    "    aux = incoming_trains[:]\n",
    "    random.shuffle(aux)\n",
    "    return aux\n",
    "\n",
    "\n",
    "# Clase para incluir todos los trenes/ crear cada individuo\n",
    "class Trains(list):\n",
    "    def __init__(self):\n",
    "        list.extend(self, create_queue())\n",
    "\n",
    "        \n",
    "# Función de fitness\n",
    "def evaluation(individual):\n",
    "    dock_op_counters = {\"op1\" : 0, \"op2\" : 0, \"op3\" : 0}\n",
    "    time = 0\n",
    "\n",
    "    for train in individual:\n",
    "        next_delay = train.wagons\n",
    "        if dock_op_counters[train.op] == 0:\n",
    "            dock_op_counters[train.op] = next_delay\n",
    "        else:\n",
    "            current_delay = dock_op_counters[train.op]\n",
    "            for k, v in dock_op_counters.items():\n",
    "                dock_op_counters[k] = max(0, v - current_delay)\n",
    "            dock_op_counters[train.op] = next_delay\n",
    "            time += current_delay\n",
    "\n",
    "    time += max(dock_op_counters.values())\n",
    "    return time,\n",
    "\n",
    "\n",
    "\n",
    "\n",
    "# Nuestras funciones\n",
    "\n",
    "# Función de fitness creada por nosotros (hace lo mismo pero más lento, se intentó)\n",
    "def time(individual):\n",
    "    total_count = 0\n",
    "    dock_1_count = 0\n",
    "    dock_2_count = 0\n",
    "    dock_3_count = 0\n",
    "    \n",
    "    for train in individual:\n",
    "        if individual.op == \"op1\":\n",
    "            if dock_1_count > 0:\n",
    "                total_count += dock_1_count\n",
    "                \n",
    "                dock_1_count -= dock_1_count\n",
    "                if dock_1_count < 0:\n",
    "                    dock_1_count = 0\n",
    "                dock_2_count -= dock_1_count\n",
    "                if dock_2_count < 0:\n",
    "                    dock_2_count = 0\n",
    "                dock_3_count -= dock_1_count\n",
    "                if dock_3_count < 0:\n",
    "                    dock_3_count = 0\n",
    "                \n",
    "            dock_1_count += individual.wagons\n",
    "            \n",
    "        elif individual.op == \"op2\":\n",
    "            if dock_2_count > 0:\n",
    "                total_count += dock_2_count\n",
    "                \n",
    "                dock_1_count -= dock_2_count\n",
    "                if dock_1_count < 0:\n",
    "                    dock_1_count = 0\n",
    "                dock_2_count -= dock_2_count\n",
    "                if dock_2_count < 0:\n",
    "                    dock_2_count = 0\n",
    "                dock_3_count -= dock_2_count\n",
    "                if dock_3_count < 0:\n",
    "                    dock_3_count = 0\n",
    "                \n",
    "            dock_2_count += individual.wagons\n",
    "            \n",
    "        else:\n",
    "            if dock_3_count > 0:\n",
    "                total_count += dock_3_count\n",
    "                \n",
    "                dock_1_count -= dock_3_count\n",
    "                if dock_1_count < 0:\n",
    "                    dock_1_count = 0\n",
    "                dock_2_count -= dock_3_count\n",
    "                if dock_2_count < 0:\n",
    "                    dock_2_count = 0\n",
    "                dock_3_count -= dock_3_count\n",
    "                if dock_3_count < 0:\n",
    "                    dock_3_count = 0\n",
    "                \n",
    "            dock_1_count += individual.wagons\n",
    "            \n",
    "    final_delays = [dock_1_count, dock_2_count, dock_3_count]\n",
    "    max_delay = max(final_delays)\n",
    "    total_count += max_delay\n",
    "            \n",
    "    return total_count\n",
    "\n",
    "\n",
    "# Función de cruce creada por nosotros\n",
    "def our_crossover(ind1, ind2):\n",
    "    \n",
    "    mitad1_ind1 = ind1[: round(len(ind1)/2)]\n",
    "    mitad2_ind1 = ind1[round(len(ind1)/2): ]\n",
    "    mitad1_ind2 = ind2[: round(len(ind2)/2)]\n",
    "    mitad2_ind2 = ind2[round(len(ind2)/2): ]\n",
    "    \n",
    "    \n",
    "    # Comprobación de si hay trenes coincidentes entre la 1ª mitad del 1º y la 2ª mitad del 2º\n",
    "    for train in mitad2_ind2: \n",
    "        if train in mitad1_ind1: # Si hay uno coincidente\n",
    "            mitad2_ind1.append(train) # Lo meto en la 2ª mitad del 1º\n",
    "            mitad1_ind1.remove(train) # Lo elimino de la 1ª mitad del 1º, haciendo que el primer hijo ya no lo tenga\n",
    "            \n",
    "    # Comprobación de si hay trenes coincidentes entre la 2ª mitad del 1º y la 1ª mitad del 2º        \n",
    "    for train in mitad2_ind1:\n",
    "        if train in mitad1_ind2: # Si hay uno coincidente\n",
    "            mitad2_ind2.append(train) # Lo meto en la 2ª mitad del 2º\n",
    "            mitad1_ind2.remove(train) # Lo elimino de la 1ª mitad del 2º, haciendo que el segundo hijo ya no lo tenga\n",
    "         \n",
    "    ind1 = list(np.append(mitad1_ind1, mitad2_ind2))\n",
    "    ind2 = list(np.append(mitad2_ind1, mitad1_ind2))\n",
    "    \n",
    "    return ind1, ind2\n",
    "\n",
    "\n",
    "# Función de mutación, creada por nosotros (se intentó)\n",
    "def our_mutation(ind):\n",
    "    \n",
    "    indices = [i for i in range(len(ind))]\n",
    "    indices_elegidos = random.sample(indices, 2)\n",
    "    \n",
    "    # Para la mutación, simplemente cambiaremos 2 trenes de sitio, intercambiando sus posiciones\n",
    "    train1 = ind[indices_elegidos[0]]\n",
    "    train2 = ind[indices_elegidos[1]]\n",
    "    ind[indices_elegidos[0]] = train2\n",
    "    ind[indices_elegidos[1]] = train1\n",
    "    \n",
    "    return ind,\n"
   ]
  },
  {
   "cell_type": "markdown",
   "id": "f4059e79",
   "metadata": {},
   "source": [
    "## Puesta a prueba de la creación de individuos"
   ]
  },
  {
   "cell_type": "code",
   "execution_count": 10,
   "id": "ae23c7f9",
   "metadata": {
    "scrolled": false
   },
   "outputs": [
    {
     "name": "stdout",
     "output_type": "stream",
     "text": [
      "(105,)\n",
      "(99,)\n",
      "(99,)\n",
      "(110,)\n",
      "(99,)\n",
      "(99,)\n",
      "(120,)\n",
      "(99,)\n",
      "(105,)\n",
      "(110,)\n"
     ]
    }
   ],
   "source": [
    "creator.create(\"FitnessMax\", base.Fitness, weights=(-1.0,)) # \"Creamos\" la función de fitness para el algoritmo, \n",
    "                                                            # y queremos minimizarla\n",
    "creator.create(\"Individual\", Trains, fitness=creator.FitnessMax) # Clase Trains, con atributo fitness\n",
    "\n",
    "toolbox = base.Toolbox()\n",
    "toolbox.register(\"individual\", creator.Individual) # Individuo\n",
    "toolbox.register(\"population\", tools.initRepeat, list, toolbox.individual) # La población de individuos\n",
    "\n",
    "toolbox.register(\"evaluate\", evaluation) # Función de fitness específica\n",
    "toolbox.register(\"mate\", our_crossover) # tools.cxOrdered, espera índices.\n",
    "toolbox.register(\"mutate\", tools.mutShuffleIndexes, indpb = 0.03) # Si hiciera falta, sustituir por tools.mutShuffleIndexes (indpb = 0.03) o mutation\n",
    "toolbox.register(\"select\", tools.selTournament, tournsize = 3) # Función de selección, en este caso por torneo, selTournament\n",
    "                                                               # puede ser selRandom, selBest, selRoulette\n",
    "\n",
    "pop = toolbox.population(n=10) # Población de 10 individuos, cada uno con 7 trenes\n",
    "for ind in pop:\n",
    "    print(toolbox.evaluate(ind)) # Evaluación de la población inicial, sin cruces ni mutaciones"
   ]
  },
  {
   "cell_type": "markdown",
   "id": "e133727a",
   "metadata": {},
   "source": [
    "Escogemos la **selección por torneo** porque consideramos que es un buen algoritmo en el que prima bastante la aleatoriedad. \n",
    "\n",
    "Desventajas de otros:\n",
    "- SelRandom: Muy aleatorio, la gracia está en ir dirigiendo la colocación de trenes a aquellos que son mejores, si lo hacemos random difícilmente lo conseguiremos.\n",
    "- SelBest: Si escogemos siempre el mejor podríamos estar dejando atrás individuos que tienen partes buenas.\n",
    "- SelRoulette: En caso de haber individuos con mucha más probabilidad de salir, se podrían llegar a perder también buenas características."
   ]
  },
  {
   "cell_type": "markdown",
   "id": "3e6f8baf",
   "metadata": {},
   "source": [
    "Por otro lado, la **función de cruce escogida, cxOrdered**, es ideal porque se caracteriza por *eliminar genes que pudiesen estar duplicados en algún individuo, y mandarlos al otro individuo hijo*.\n",
    "\n",
    "De esta manera, respetamos que no haya dos mismos trenes en el mismo individuo, repetido."
   ]
  },
  {
   "cell_type": "code",
   "execution_count": 11,
   "id": "8d7891f2",
   "metadata": {},
   "outputs": [
    {
     "name": "stdout",
     "output_type": "stream",
     "text": [
      "Trenes:\n",
      "-------\n",
      "\n",
      "Tren 0: Número de vagones:30\n",
      "Muelle de operaciones:op3.\n",
      "Tren 1: Número de vagones:19\n",
      "Muelle de operaciones:op2.\n",
      "Tren 2: Número de vagones:25\n",
      "Muelle de operaciones:op2.\n",
      "Tren 3: Número de vagones:10\n",
      "Muelle de operaciones:op1.\n",
      "Tren 4: Número de vagones:13\n",
      "Muelle de operaciones:op3.\n",
      "Tren 5: Número de vagones:16\n",
      "Muelle de operaciones:op2.\n",
      "Tren 6: Número de vagones:21\n",
      "Muelle de operaciones:op1.\n",
      "Tren 7: Número de vagones:24\n",
      "Muelle de operaciones:op2.\n",
      "Tren 8: Número de vagones:15\n",
      "Muelle de operaciones:op2.\n",
      "Tren 9: Número de vagones:21\n",
      "Muelle de operaciones:op1.\n"
     ]
    }
   ],
   "source": [
    "print(\"Trenes:\")\n",
    "print(\"-------\\n\")\n",
    "for i in range(len(pop[0])):\n",
    "    print(\"Tren %s: %s.\" % (i, pop[0][i]))"
   ]
  },
  {
   "cell_type": "markdown",
   "id": "df25fb23",
   "metadata": {},
   "source": [
    "Se obtienen unos tiempos que podrían ser buenos, pero lo más probable es que sean malos."
   ]
  },
  {
   "cell_type": "markdown",
   "id": "f3c49fe2",
   "metadata": {},
   "source": [
    "## Tabla del proceso de optimización del algoritmo genético"
   ]
  },
  {
   "cell_type": "code",
   "execution_count": 12,
   "id": "0028802f",
   "metadata": {
    "scrolled": true
   },
   "outputs": [
    {
     "name": "stdout",
     "output_type": "stream",
     "text": [
      "gen\tnevals\tavg  \tmin\tmax\n",
      "0  \t10    \t104.5\t99 \t120\n",
      "[<__main__.Train object at 0x000001E711CFD3F0>, <__main__.Train object at 0x000001E711CFFC10>, <__main__.Train object at 0x000001E711CFF8E0>, <__main__.Train object at 0x000001E711CFD990>, <__main__.Train object at 0x000001E711CFDA20>, <__main__.Train object at 0x000001E711CFF130>, <__main__.Train object at 0x000001E711CFF070>, <__main__.Train object at 0x000001E711CFF0D0>, <__main__.Train object at 0x000001E711CFF0A0>, <__main__.Train object at 0x000001E711CFEF80>]\n",
      "[<__main__.Train object at 0x000001E711CFE440>, <__main__.Train object at 0x000001E711CFF4C0>, <__main__.Train object at 0x000001E711CFF3D0>, <__main__.Train object at 0x000001E711CFF400>, <__main__.Train object at 0x000001E711CFEE90>, <__main__.Train object at 0x000001E711CFF310>, <__main__.Train object at 0x000001E711CFF250>, <__main__.Train object at 0x000001E711CFF2B0>, <__main__.Train object at 0x000001E711CFF280>, <__main__.Train object at 0x000001E711CFF160>]\n"
     ]
    },
    {
     "ename": "AttributeError",
     "evalue": "'list' object has no attribute 'fitness'",
     "output_type": "error",
     "traceback": [
      "\u001b[1;31m---------------------------------------------------------------------------\u001b[0m",
      "\u001b[1;31mAttributeError\u001b[0m                            Traceback (most recent call last)",
      "Input \u001b[1;32mIn [12]\u001b[0m, in \u001b[0;36m<cell line: 7>\u001b[1;34m()\u001b[0m\n\u001b[0;32m      4\u001b[0m stats\u001b[38;5;241m.\u001b[39mregister(\u001b[38;5;124m\"\u001b[39m\u001b[38;5;124mmin\u001b[39m\u001b[38;5;124m\"\u001b[39m, np\u001b[38;5;241m.\u001b[39mmin)\n\u001b[0;32m      5\u001b[0m stats\u001b[38;5;241m.\u001b[39mregister(\u001b[38;5;124m\"\u001b[39m\u001b[38;5;124mmax\u001b[39m\u001b[38;5;124m\"\u001b[39m, np\u001b[38;5;241m.\u001b[39mmax)\n\u001b[1;32m----> 7\u001b[0m pop, logbook \u001b[38;5;241m=\u001b[39m \u001b[43malgorithms\u001b[49m\u001b[38;5;241;43m.\u001b[39;49m\u001b[43meaSimple\u001b[49m\u001b[43m(\u001b[49m\u001b[43mpop\u001b[49m\u001b[43m,\u001b[49m\u001b[43m \u001b[49m\u001b[43mtoolbox\u001b[49m\u001b[43m,\u001b[49m\u001b[43m \u001b[49m\u001b[43mcxpb\u001b[49m\u001b[38;5;241;43m=\u001b[39;49m\u001b[38;5;241;43m0.5\u001b[39;49m\u001b[43m,\u001b[49m\u001b[43m \u001b[49m\u001b[43mmutpb\u001b[49m\u001b[38;5;241;43m=\u001b[39;49m\u001b[38;5;241;43m0.15\u001b[39;49m\u001b[43m,\u001b[49m\u001b[43m \u001b[49m\u001b[43mngen\u001b[49m\u001b[38;5;241;43m=\u001b[39;49m\u001b[38;5;241;43m200\u001b[39;49m\u001b[43m,\u001b[49m\u001b[43m \u001b[49m\u001b[43mstats\u001b[49m\u001b[38;5;241;43m=\u001b[39;49m\u001b[43mstats\u001b[49m\u001b[43m,\u001b[49m\u001b[43m \u001b[49m\u001b[43mhalloffame\u001b[49m\u001b[38;5;241;43m=\u001b[39;49m\u001b[43mhallOfFame\u001b[49m\u001b[43m,\u001b[49m\u001b[43m \u001b[49m\n\u001b[0;32m      8\u001b[0m \u001b[43m                                   \u001b[49m\u001b[43mverbose\u001b[49m\u001b[38;5;241;43m=\u001b[39;49m\u001b[38;5;28;43;01mTrue\u001b[39;49;00m\u001b[43m)\u001b[49m\n",
      "File \u001b[1;32m~\\AppData\\Local\\Programs\\Python\\Python310\\lib\\site-packages\\deap\\algorithms.py:168\u001b[0m, in \u001b[0;36meaSimple\u001b[1;34m(population, toolbox, cxpb, mutpb, ngen, stats, halloffame, verbose)\u001b[0m\n\u001b[0;32m    165\u001b[0m offspring \u001b[38;5;241m=\u001b[39m toolbox\u001b[38;5;241m.\u001b[39mselect(population, \u001b[38;5;28mlen\u001b[39m(population))\n\u001b[0;32m    167\u001b[0m \u001b[38;5;66;03m# Vary the pool of individuals\u001b[39;00m\n\u001b[1;32m--> 168\u001b[0m offspring \u001b[38;5;241m=\u001b[39m \u001b[43mvarAnd\u001b[49m\u001b[43m(\u001b[49m\u001b[43moffspring\u001b[49m\u001b[43m,\u001b[49m\u001b[43m \u001b[49m\u001b[43mtoolbox\u001b[49m\u001b[43m,\u001b[49m\u001b[43m \u001b[49m\u001b[43mcxpb\u001b[49m\u001b[43m,\u001b[49m\u001b[43m \u001b[49m\u001b[43mmutpb\u001b[49m\u001b[43m)\u001b[49m\n\u001b[0;32m    170\u001b[0m \u001b[38;5;66;03m# Evaluate the individuals with an invalid fitness\u001b[39;00m\n\u001b[0;32m    171\u001b[0m invalid_ind \u001b[38;5;241m=\u001b[39m [ind \u001b[38;5;28;01mfor\u001b[39;00m ind \u001b[38;5;129;01min\u001b[39;00m offspring \u001b[38;5;28;01mif\u001b[39;00m \u001b[38;5;129;01mnot\u001b[39;00m ind\u001b[38;5;241m.\u001b[39mfitness\u001b[38;5;241m.\u001b[39mvalid]\n",
      "File \u001b[1;32m~\\AppData\\Local\\Programs\\Python\\Python310\\lib\\site-packages\\deap\\algorithms.py:75\u001b[0m, in \u001b[0;36mvarAnd\u001b[1;34m(population, toolbox, cxpb, mutpb)\u001b[0m\n\u001b[0;32m     72\u001b[0m     \u001b[38;5;28;01mif\u001b[39;00m random\u001b[38;5;241m.\u001b[39mrandom() \u001b[38;5;241m<\u001b[39m cxpb:\n\u001b[0;32m     73\u001b[0m         offspring[i \u001b[38;5;241m-\u001b[39m \u001b[38;5;241m1\u001b[39m], offspring[i] \u001b[38;5;241m=\u001b[39m toolbox\u001b[38;5;241m.\u001b[39mmate(offspring[i \u001b[38;5;241m-\u001b[39m \u001b[38;5;241m1\u001b[39m],\n\u001b[0;32m     74\u001b[0m                                                       offspring[i])\n\u001b[1;32m---> 75\u001b[0m         \u001b[38;5;28;01mdel\u001b[39;00m \u001b[43moffspring\u001b[49m\u001b[43m[\u001b[49m\u001b[43mi\u001b[49m\u001b[43m \u001b[49m\u001b[38;5;241;43m-\u001b[39;49m\u001b[43m \u001b[49m\u001b[38;5;241;43m1\u001b[39;49m\u001b[43m]\u001b[49m\u001b[38;5;241;43m.\u001b[39;49m\u001b[43mfitness\u001b[49m\u001b[38;5;241m.\u001b[39mvalues, offspring[i]\u001b[38;5;241m.\u001b[39mfitness\u001b[38;5;241m.\u001b[39mvalues\n\u001b[0;32m     77\u001b[0m \u001b[38;5;28;01mfor\u001b[39;00m i \u001b[38;5;129;01min\u001b[39;00m \u001b[38;5;28mrange\u001b[39m(\u001b[38;5;28mlen\u001b[39m(offspring)):\n\u001b[0;32m     78\u001b[0m     \u001b[38;5;28;01mif\u001b[39;00m random\u001b[38;5;241m.\u001b[39mrandom() \u001b[38;5;241m<\u001b[39m mutpb:\n",
      "\u001b[1;31mAttributeError\u001b[0m: 'list' object has no attribute 'fitness'"
     ]
    }
   ],
   "source": [
    "hallOfFame = tools.HallOfFame(1) # Mantenemos el mejor hasta el momento\n",
    "stats = tools.Statistics(lambda indiv: indiv.fitness.values) # Parámetro que queremos visualizar, el tiempo /fitness\n",
    "stats.register(\"avg\", np.mean)\n",
    "stats.register(\"min\", np.min)\n",
    "stats.register(\"max\", np.max)\n",
    "\n",
    "pop, logbook = algorithms.eaSimple(pop, toolbox, cxpb=0.5, mutpb=0.15, ngen=200, stats=stats, halloffame=hallOfFame, \n",
    "                                   verbose=True)"
   ]
  },
  {
   "cell_type": "markdown",
   "id": "86f2c357",
   "metadata": {},
   "source": [
    "## Visualización del proceso de optimización del algoritmo genético"
   ]
  },
  {
   "cell_type": "code",
   "execution_count": 175,
   "id": "561aa11e",
   "metadata": {},
   "outputs": [
    {
     "name": "stdout",
     "output_type": "stream",
     "text": [
      "El individuo/ orden de trenes que consigue un mejor tiempo es: \n",
      "\n",
      "Tren 0: Número de vagones:14\n",
      "Muelle de operaciones:op1.\n",
      "Tren 1: Número de vagones:21\n",
      "Muelle de operaciones:op2.\n",
      "Tren 2: Número de vagones:27\n",
      "Muelle de operaciones:op3.\n",
      "Tren 3: Número de vagones:14\n",
      "Muelle de operaciones:op1.\n",
      "Tren 4: Número de vagones:24\n",
      "Muelle de operaciones:op2.\n",
      "Tren 5: Número de vagones:24\n",
      "Muelle de operaciones:op1.\n",
      "Tren 6: Número de vagones:27\n",
      "Muelle de operaciones:op3.\n",
      "Tren 7: Número de vagones:27\n",
      "Muelle de operaciones:op2.\n",
      "Tren 8: Número de vagones:24\n",
      "Muelle de operaciones:op1.\n",
      "Tren 9: Número de vagones:17\n",
      "Muelle de operaciones:op3.\n",
      "\n",
      "Tiempo de: (76.0,) segundos\n"
     ]
    },
    {
     "data": {
      "image/png": "[encoded data removed]",
      "text/plain": [
       "<Figure size 432x288 with 1 Axes>"
      ]
     },
     "metadata": {
      "needs_background": "light"
     },
     "output_type": "display_data"
    }
   ],
   "source": [
    "print(\"El individuo/ orden de trenes que consigue un mejor tiempo es: \\n\")\n",
    "for i in range(len(hallOfFame[0])):\n",
    "    print(\"Tren %s: %s.\" % (i, hallOfFame[0][i]))\n",
    "\n",
    "print(\"\\nTiempo de: %s segundos\" % hallOfFame[0].fitness)\n",
    "\n",
    "gen, avg, min_, max_ = logbook.select(\"gen\", \"avg\", \"min\", \"max\")\n",
    "plt.plot(gen, avg, label=\"tiempo medio\")\n",
    "plt.plot(gen, min_, label=\"mejor tiempo\")\n",
    "plt.plot(gen, max_, label=\"peor tiempo\")\n",
    "plt.title(\"Algoritmo genético para la optimización de tiempos.\")\n",
    "plt.xlabel(\"Generación\")\n",
    "plt.ylabel(\"Fitness\")\n",
    "plt.legend(loc=\"lower right\")\n",
    "plt.show()"
   ]
  },
  {
   "cell_type": "markdown",
   "id": "e6dc3023",
   "metadata": {},
   "source": [
    "Como ppdemos ver, hemos conseguido, con el paso de las generaciones, disminuir el tiempo total de espera de los trenes hasta en 50 unidades, casi la mitad."
   ]
  }
 ],
 "metadata": {
  "kernelspec": {
   "display_name": "Python 3 (ipykernel)",
   "language": "python",
   "name": "python3"
  },
  "language_info": {
   "codemirror_mode": {
    "name": "ipython",
    "version": 3
   },
   "file_extension": ".py",
   "mimetype": "text/x-python",
   "name": "python",
   "nbconvert_exporter": "python",
   "pygments_lexer": "ipython3",
   "version": "3.10.0"
  }
 },
 "nbformat": 4,
 "nbformat_minor": 5
}
